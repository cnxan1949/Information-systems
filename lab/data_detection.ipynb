{
 "cells": [
  {
   "cell_type": "markdown",
   "metadata": {},
   "source": [
    "检查数据丢失\n",
    " Проверка потери данных"
   ]
  },
  {
   "cell_type": "code",
   "execution_count": 32,
   "metadata": {},
   "outputs": [
    {
     "name": "stdout",
     "output_type": "stream",
     "text": [
      " Отсутствие пропущенных значений没有缺失值\n"
     ]
    }
   ],
   "source": [
    "import pandas as pd\n",
    "\n",
    "# 加载CSV文件\n",
    "df = pd.read_csv('./data/train.csv')\n",
    "\n",
    "# 检查是否有缺失值\n",
    "if df.isnull().values.any():\n",
    "    print(\" С отсутствующими значениями存在缺失值\")\n",
    "else:\n",
    "    print(\" Отсутствие пропущенных значений没有缺失值\")"
   ]
  },
  {
   "cell_type": "markdown",
   "metadata": {},
   "source": [
    "统计各类表情的图像数量：\n",
    " \n",
    "Подсчитывает количество изображений для каждого типа экспрессии:\n",
    " \n",
    " "
   ]
  },
  {
   "cell_type": "code",
   "execution_count": 33,
   "metadata": {},
   "outputs": [
    {
     "name": "stdout",
     "output_type": "stream",
     "text": [
      "emotion\n",
      "3    7215\n",
      "6    4965\n",
      "4    4830\n",
      "2    4097\n",
      "0    3995\n",
      "5    3171\n",
      "1     436\n",
      "Name: count, dtype: int64\n"
     ]
    }
   ],
   "source": [
    "import pandas as pd\n",
    "\n",
    "# 加载CSV文件\n",
    "df = pd.read_csv('./data/train.csv')\n",
    "\n",
    "# 统计各种情绪的数量\n",
    "emotion_counts = df[df.columns[0]].value_counts()\n",
    "\n",
    "# 打印情绪数量统计结果\n",
    "print(emotion_counts)\n"
   ]
  },
  {
   "cell_type": "markdown",
   "metadata": {},
   "source": [
    " 一致性"
   ]
  },
  {
   "cell_type": "code",
   "execution_count": 34,
   "metadata": {},
   "outputs": [
    {
     "name": "stdout",
     "output_type": "stream",
     "text": [
      " Количество пикселей на изображении每张图像的像素数量: 1\n"
     ]
    }
   ],
   "source": [
    "# 检查所有图像的尺寸一致性\n",
    "pixel_count = len(df.columns) - 1  # 减去标签列\n",
    "print(f\" Количество пикселей на изображении每张图像的像素数量: {pixel_count}\")\n"
   ]
  }
 ],
 "metadata": {
  "kernelspec": {
   "display_name": "Python 3",
   "language": "python",
   "name": "python3"
  },
  "language_info": {
   "codemirror_mode": {
    "name": "ipython",
    "version": 3
   },
   "file_extension": ".py",
   "mimetype": "text/x-python",
   "name": "python",
   "nbconvert_exporter": "python",
   "pygments_lexer": "ipython3",
   "version": "3.10.8"
  }
 },
 "nbformat": 4,
 "nbformat_minor": 2
}
